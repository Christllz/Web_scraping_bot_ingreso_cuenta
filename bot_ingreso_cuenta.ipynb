{
  "nbformat": 4,
  "nbformat_minor": 0,
  "metadata": {
    "colab": {
      "name": "bot_ingreso_cuenta.ipynb",
      "provenance": [],
      "authorship_tag": "ABX9TyPq6guMOsKmQ+MpmC0Vb/Xs",
      "include_colab_link": true
    },
    "kernelspec": {
      "name": "python3",
      "display_name": "Python 3"
    },
    "language_info": {
      "name": "python"
    }
  },
  "cells": [
    {
      "cell_type": "markdown",
      "metadata": {
        "id": "view-in-github",
        "colab_type": "text"
      },
      "source": [
        "<a href=\"https://colab.research.google.com/github/Christllz/Web_scraping_bot_ingreso_cuenta/blob/master/bot_ingreso_cuenta.ipynb\" target=\"_parent\"><img src=\"https://colab.research.google.com/assets/colab-badge.svg\" alt=\"Open In Colab\"/></a>"
      ]
    },
    {
      "cell_type": "code",
      "metadata": {
        "colab": {
          "base_uri": "https://localhost:8080/",
          "height": 35
        },
        "id": "oF6oL95xfdpf",
        "outputId": "b658ebb5-64ab-45ac-f6b9-23576a0d2588"
      },
      "source": [
        "\"\"\" Web_Scraping 3 \"\"\"\n",
        "# ingresar usuario  y contraseña en el correo dar iniciar sesion "
      ],
      "execution_count": 1,
      "outputs": [
        {
          "output_type": "execute_result",
          "data": {
            "application/vnd.google.colaboratory.intrinsic+json": {
              "type": "string"
            },
            "text/plain": [
              "' Web_Scraping 3 '"
            ]
          },
          "metadata": {
            "tags": []
          },
          "execution_count": 1
        }
      ]
    },
    {
      "cell_type": "markdown",
      "metadata": {
        "id": "gHFovrUWl94S"
      },
      "source": [
        ""
      ]
    },
    {
      "cell_type": "code",
      "metadata": {
        "id": "w1KVvbGbjQQm"
      },
      "source": [
        "import unittest\n",
        "from selenium import webdriver\n",
        "from selenium.webdriver.common.keys import Keys\n",
        "from selenium.webdriver.common.by import By\n",
        "import time"
      ],
      "execution_count": null,
      "outputs": []
    },
    {
      "cell_type": "markdown",
      "metadata": {
        "id": "v8osijTmjwVb"
      },
      "source": [
        "## Para poder utilizar la libreria web drive de selenium hay que instalar primero un navegador de chrome \"webdriver.chrome()\" https://www.youtube.com/watch?v=dz59GsdvUF8&t=10s"
      ]
    },
    {
      "cell_type": "code",
      "metadata": {
        "id": "i1pxgYLijXxk"
      },
      "source": [
        "url_1 = 'https://www.facebook.com/'\n",
        "Usuario = 'Tu_email'\n",
        "Contraseña = \"tu_contraseña\"\n",
        "browser = webdriver.Chrome()\n",
        "browser.get(url_1)\n",
        "time.sleep(2)"
      ],
      "execution_count": null,
      "outputs": []
    },
    {
      "cell_type": "code",
      "metadata": {
        "id": "gbdH19QZjfgN"
      },
      "source": [
        "facebook = browser.find_element_by_name('email')\n",
        "facebook.send_keys(Usuario)\n",
        "time.sleep(2)\n",
        "facebook = browser.find_element_by_name('pass')\n",
        "facebook.send_keys(Contraseña)\n",
        "time.sleep(2)\n",
        "facebook.send_keys(Keys.ENTER)"
      ],
      "execution_count": null,
      "outputs": []
    }
  ]
}